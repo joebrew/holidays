{
 "metadata": {
  "name": ""
 },
 "nbformat": 3,
 "nbformat_minor": 0,
 "worksheets": [
  {
   "cells": [
    {
     "cell_type": "code",
     "collapsed": false,
     "input": [
      "import requests\n",
      "from bs4 import BeautifulSoup\n",
      "import os\n",
      "import re\n",
      "import itertools\n",
      "import calendar\n",
      "import numpy as np"
     ],
     "language": "python",
     "metadata": {},
     "outputs": [],
     "prompt_number": 1
    },
    {
     "cell_type": "code",
     "collapsed": false,
     "input": [
      "# define country\n",
      "country = 'Uganda'\n",
      "link = 'http://en.wikipedia.org/wiki/Public_holidays_in_' + country\n",
      "\n",
      "# If necessary, create today's directory\n",
      "# and set working directory there\n",
      "if not os.path.exists(country):\n",
      "  os.makedirs(country)\n",
      "\n",
      "os.chdir(country)\n"
     ],
     "language": "python",
     "metadata": {},
     "outputs": [],
     "prompt_number": 2
    },
    {
     "cell_type": "code",
     "collapsed": false,
     "input": [
      "# make request\n",
      "r = requests.get(link)"
     ],
     "language": "python",
     "metadata": {},
     "outputs": [],
     "prompt_number": 3
    },
    {
     "cell_type": "code",
     "collapsed": false,
     "input": [
      "# see content\n",
      "#r.content ; r.content.prettify()"
     ],
     "language": "python",
     "metadata": {},
     "outputs": [],
     "prompt_number": 4
    },
    {
     "cell_type": "code",
     "collapsed": false,
     "input": [
      "# Make soup object of html page\n",
      "soup = BeautifulSoup(r.content)"
     ],
     "language": "python",
     "metadata": {},
     "outputs": [],
     "prompt_number": 5
    },
    {
     "cell_type": "code",
     "collapsed": false,
     "input": [
      "# Extract the date list section\n",
      "cal_data = soup.find_all('ul')#soup.find_all(\"ul\", {\"class\": \"mw-Headline\"})"
     ],
     "language": "python",
     "metadata": {},
     "outputs": [],
     "prompt_number": 6
    },
    {
     "cell_type": "code",
     "collapsed": false,
     "input": [
      "# Examine the data a bit\n",
      "#for item in cal_data:\n",
      "    #if item.text.split(' ', 1)[0] in months:\n",
      "    #print item.text#.text"
     ],
     "language": "python",
     "metadata": {},
     "outputs": [],
     "prompt_number": 7
    },
    {
     "cell_type": "code",
     "collapsed": false,
     "input": [
      "months = []\n",
      "for i in range(0,12):\n",
      "    months.append(calendar.month_name[i+1])"
     ],
     "language": "python",
     "metadata": {},
     "outputs": [],
     "prompt_number": 8
    },
    {
     "cell_type": "code",
     "collapsed": false,
     "input": [
      "# Print only lines that contain a month name\n",
      "#cal_cleaned = []\n",
      "for line in cal_data[0].text.splitlines():\n",
      "    month_only = line.split(' ', 1)[0]\n",
      "    if month_only in months:\n",
      "        print line\n",
      "        #cal_cleaned.append(line)\n",
      "        \n",
      "        "
     ],
     "language": "python",
     "metadata": {},
     "outputs": [],
     "prompt_number": 9
    },
    {
     "cell_type": "code",
     "collapsed": false,
     "input": [
      "#print cal_cleaned"
     ],
     "language": "python",
     "metadata": {},
     "outputs": [],
     "prompt_number": 10
    },
    {
     "cell_type": "code",
     "collapsed": false,
     "input": [
      "# Extract individual dates\n",
      "month = []\n",
      "day = []\n",
      "holiday = []\n",
      "for line in cal_data[0].text.splitlines():\n",
      "    \n",
      "    \n",
      "    if len(line) > 0:\n",
      "        possible_day = line.split(' ')[1]\n",
      "        possible_day = re.findall('\\d+', possible_day)\n",
      "        \n",
      "        \n",
      "        possible_month = line.split(' ', 1)[0]\n",
      "        #possible_day = line.split(' ', 1)[1]\n",
      "        #possible_day = possible_day.split(':')[0]\n",
      "        possible_holiday = line.split(': ')[-1]\n",
      "\n",
      "    \n",
      "        if possible_month in months :\n",
      "            month.append(possible_month)\n",
      "            day.append(possible_day)\n",
      "            holiday.append(possible_holiday) "
     ],
     "language": "python",
     "metadata": {},
     "outputs": [],
     "prompt_number": 11
    },
    {
     "cell_type": "code",
     "collapsed": false,
     "input": [
      "# flatten day \n",
      "day = list(itertools.chain.from_iterable(day))"
     ],
     "language": "python",
     "metadata": {},
     "outputs": [],
     "prompt_number": 12
    },
    {
     "cell_type": "code",
     "collapsed": false,
     "input": [
      "import pandas as pd"
     ],
     "language": "python",
     "metadata": {},
     "outputs": [],
     "prompt_number": 13
    },
    {
     "cell_type": "code",
     "collapsed": false,
     "input": [
      "df = pd.DataFrame(index = range(len(holiday)))"
     ],
     "language": "python",
     "metadata": {},
     "outputs": [],
     "prompt_number": 14
    },
    {
     "cell_type": "code",
     "collapsed": false,
     "input": [
      "df['month'] = month\n",
      "df['day'] = day\n",
      "df['holiday'] = holiday"
     ],
     "language": "python",
     "metadata": {},
     "outputs": [],
     "prompt_number": 15
    },
    {
     "cell_type": "code",
     "collapsed": false,
     "input": [
      "df.to_csv('holidays.csv')"
     ],
     "language": "python",
     "metadata": {},
     "outputs": [],
     "prompt_number": 16
    },
    {
     "cell_type": "code",
     "collapsed": false,
     "input": [
      "df"
     ],
     "language": "python",
     "metadata": {},
     "outputs": [
      {
       "html": [
        "<div style=\"max-height:1000px;max-width:1500px;overflow:auto;\">\n",
        "<table border=\"1\" class=\"dataframe\">\n",
        "  <tbody>\n",
        "    <tr>\n",
        "      <td>Int64Index([], dtype='int64')</td>\n",
        "      <td>Empty DataFrame</td>\n",
        "    </tr>\n",
        "  </tbody>\n",
        "</table>\n",
        "<p>0 rows \u00d7 3 columns</p>\n",
        "</div>"
       ],
       "metadata": {},
       "output_type": "pyout",
       "prompt_number": 17,
       "text": [
        "Empty DataFrame\n",
        "Columns: [month, day, holiday]\n",
        "Index: []\n",
        "\n",
        "[0 rows x 3 columns]"
       ]
      }
     ],
     "prompt_number": 17
    },
    {
     "cell_type": "code",
     "collapsed": false,
     "input": [],
     "language": "python",
     "metadata": {},
     "outputs": []
    }
   ],
   "metadata": {}
  }
 ]
}